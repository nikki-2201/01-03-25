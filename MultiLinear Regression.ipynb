{
 "cells": [
  {
   "cell_type": "code",
   "execution_count": 1,
   "id": "cd665559",
   "metadata": {},
   "outputs": [],
   "source": [
    "#Step:1 Importing necessary Libraries\n",
    "import numpy as np\n",
    "import pandas as pd\n",
    "import matplotlib.pyplot as plt\n",
    "import seaborn as sns\n",
    "from sklearn.model_selection import train_test_split\n",
    "from sklearn.linear_model import LinearRegression\n",
    "from sklearn.metrics import mean_absolute_error,mean_squared_error,r2_score,root_mean_squared_error\n",
    "import statsmodels.api as sm \n",
    "from sklearn.preprocessing import PolynomialFeatures# for polynomial features"
   ]
  },
  {
   "cell_type": "code",
   "execution_count": 7,
   "id": "5ed80516",
   "metadata": {},
   "outputs": [],
   "source": [
    "data = {\n",
    "    'Size': [1500, 1600, 1700, 1800, 1900, 2000, 2100, 2200],\n",
    "    'Bedrooms': [3, 3, 3, 4, 4, 4, 5, 5],\n",
    "    'Age': [10, 15, 10, 20, 30, 15, 20, 25],\n",
    "    'Price': [300000, 320000, 340000, 360000, 400000, 370000, 420000, 430000]\n",
    "}\n",
    "df=pd.DataFrame(data)"
   ]
  },
  {
   "cell_type": "code",
   "execution_count": 37,
   "id": "9246955f",
   "metadata": {},
   "outputs": [],
   "source": [
    "x = df[['Size', 'Bedrooms', 'Age']]  #  3 Independent variables\n",
    "y = df['Price']  # Dependent variable\n",
    " \n",
    "# x = df[['Size', 'Bedrooms']]  #  2 Independent variables\n",
    "# y = df['Price']  # Dependent variable\n",
    "\n",
    "#1 dependent n independent variable\n",
    "# x=df[['Size']]\n",
    "# y=df['Price']"
   ]
  },
  {
   "cell_type": "code",
   "execution_count": 38,
   "id": "16fdcab7",
   "metadata": {},
   "outputs": [
    {
     "name": "stdout",
     "output_type": "stream",
     "text": [
      "Intercept: 33576.01713061816\n",
      "Coefficients: [  182.01284797 -6252.67665953  1391.86295503]\n",
      "Mean Squared Error: 299314729.30776143\n",
      "R-squared: 0.5210964331075817\n"
     ]
    }
   ],
   "source": [
    "x_train, x_test, y_train, y_test = train_test_split(x, y, test_size=0.2, random_state=42)\n",
    "\n",
    "# Create and train the model\n",
    "model = LinearRegression()\n",
    "model.fit(x_train, y_train)\n",
    "\n",
    "# Evaluate the model\n",
    "y_pred = model.predict(x_test)\n",
    "mse = mean_squared_error(y_test, y_pred)\n",
    "r2 = r2_score(y_test, y_pred)\n",
    "\n",
    "print(\"Intercept:\", model.intercept_)\n",
    "print(\"Coefficients:\", model.coef_)\n",
    "print(\"Mean Squared Error:\", mse)\n",
    "print(\"R-squared:\", r2)"
   ]
  },
  {
   "cell_type": "code",
   "execution_count": 39,
   "id": "89a3210c",
   "metadata": {},
   "outputs": [
    {
     "name": "stdout",
     "output_type": "stream",
     "text": [
      "Predicted Price for new house: 306638.12\n"
     ]
    },
    {
     "name": "stderr",
     "output_type": "stream",
     "text": [
      "C:\\Users\\CVR\\anaconda3\\Lib\\site-packages\\sklearn\\utils\\validation.py:2739: UserWarning: X does not have valid feature names, but LinearRegression was fitted with feature names\n",
      "  warnings.warn(\n"
     ]
    }
   ],
   "source": [
    " new_house = np.array([[1500,4,18]])\n",
    "predicted_price = model.predict(new_house)\n",
    "print(f\"Predicted Price for new house: {predicted_price[0]:.2f}\")"
   ]
  },
  {
   "cell_type": "code",
   "execution_count": null,
   "id": "461da754",
   "metadata": {},
   "outputs": [],
   "source": []
  }
 ],
 "metadata": {
  "kernelspec": {
   "display_name": "Python 3 (ipykernel)",
   "language": "python",
   "name": "python3"
  },
  "language_info": {
   "codemirror_mode": {
    "name": "ipython",
    "version": 3
   },
   "file_extension": ".py",
   "mimetype": "text/x-python",
   "name": "python",
   "nbconvert_exporter": "python",
   "pygments_lexer": "ipython3",
   "version": "3.11.5"
  }
 },
 "nbformat": 4,
 "nbformat_minor": 5
}
